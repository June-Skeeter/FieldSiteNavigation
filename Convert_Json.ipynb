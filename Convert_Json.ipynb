{
 "cells": [
  {
   "cell_type": "code",
   "execution_count": 13,
   "metadata": {},
   "outputs": [],
   "source": [
    "import geopandas as gpd\n",
    "\n",
    "Chambers = gpd.read_file(\"data/BBS_full.geojson\")\n",
    "\n",
    "Chambers['Seedling_Status'] = ''\n",
    "Chambers.loc[Chambers['year_done']==2022,'Seedling_Status'] = 'Seedings Removed'\n",
    "Chambers.loc[Chambers['year_done']==0,'Seedling_Status'] = 'Seedings Not Yet Removed'\n",
    "\n",
    "Chambers['Description'] = Chambers['MAP_UNIT']+' '+Chambers['Seedling_Status']\n",
    "\n",
    "Chambers['Name'] = '2016 Burn Zone Seedling Removal Project '\n",
    "Chambers.loc[Chambers['year_done'].isna(),'Name'] = '2005 Burn Zone'\n",
    "\n",
    "Chambers[['Name','Description','geometry']].to_file(\"layers/BBS.geojson\",driver='GeoJSON')\n"
   ]
  }
 ],
 "metadata": {
  "kernelspec": {
   "display_name": "geo-env",
   "language": "python",
   "name": "geo-env"
  },
  "language_info": {
   "codemirror_mode": {
    "name": "ipython",
    "version": 3
   },
   "file_extension": ".py",
   "mimetype": "text/x-python",
   "name": "python",
   "nbconvert_exporter": "python",
   "pygments_lexer": "ipython3",
   "version": "3.8.10"
  },
  "orig_nbformat": 4
 },
 "nbformat": 4,
 "nbformat_minor": 2
}
